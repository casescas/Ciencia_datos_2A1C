{
 "cells": [
  {
   "cell_type": "markdown",
   "id": "2e341442-aad3-4bea-a29d-606883ea7eb0",
   "metadata": {},
   "source": [
    "# Proyecto Final - Aprendizaje Automático - Diego Estrada\n",
    "\n",
    "## Problema de interés: Calidad de agua en el Río de la Plata"
   ]
  },
  {
   "cell_type": "markdown",
   "id": "3e71f82c-0348-47ab-b4cc-eed7f1c304b1",
   "metadata": {},
   "source": [
    "Vamos a trabajar con la carga de los conjuntos de datos del período 2013 al 2024. Luego realizaremos el proceso de ETL (Extracción, Transformación y Carga) para obtener un conjunto de datos unificado, listo para el análisis exploratorio y la aplicación de algoritmos de predicción."
   ]
  },
  {
   "cell_type": "code",
   "execution_count": 3,
   "id": "3bb0a45e-c1ba-4ba6-a7ab-af67113bc14a",
   "metadata": {
    "scrolled": true
   },
   "outputs": [],
   "source": [
    "import os\n",
    "import pandas as pd\n",
    "import unicodedata\n",
    "\n",
    "#El siguiente metodo para quitar acentos y espacios en blanco de inicio y fin de las cadenas de string para estandarizar cadenas\n",
    "def quitar_acentos(texto):\n",
    "    if isinstance(texto, str):\n",
    "        return unicodedata.normalize('NFKD', texto).encode('ASCII', 'ignore').decode('ASCII').lower().strip()\n",
    "    return texto\n",
    "\n",
    "#Ruta de los datasets\n",
    "ruta_base = 'C:\\\\Users\\\\destrada\\\\Ciencia_datos_2A1C\\\\Cookiecutter_Proyecto_Final\\\\data\\\\interim\\\\'\n",
    "\n",
    "#Verificamos si la ruta existe y cargamos los archivos\n",
    "if os.path.exists(ruta_base):\n",
    "    archivos = [  'agc_y_riodelaplata_2013.csv', 'agc_y_riodelaplata_2014.csv', 'agc_y_riodelaplata_2015.csv', 'agc_y_riodelaplata_2016.csv',\n",
    "                  'agc_y_riodelaplata_2017.csv', 'agc_z_riodelaplata_2018.csv', 'agc_z_riodelaplata_2019.csv', 'agc_z_riodelaplata_2020.csv',\n",
    "                  'agc_z_riodelaplata_2021.csv', 'agc_y_riodelaplata_2022.csv', 'agc_y_riodelaplatal_2023.csv','agc_z_riodelaplata_2024.csv' ]\n",
    "    \n",
    "    dataframes = []\n",
    "    for archivo in archivos:\n",
    "        df = pd.read_csv(ruta_base + archivo, encoding='latin1', sep=';')\n",
    "        #Columnas en minúsculas\n",
    "        df.columns = map(str.lower, df.columns)  \n",
    "        \n",
    "        #Aplicar quitar_acentos solo a columnas de texto\n",
    "        for col in df.select_dtypes(include=['object']).columns:\n",
    "            df[col] = df[col].apply(quitar_acentos)\n",
    "        \n",
    "        dataframes.append(df)\n",
    "    \n",
    "    #Unificamos todos los datasets en uno solo\n",
    "    df_final = pd.concat(dataframes, ignore_index=True)\n",
    "    \n",
    "#Mostramos las primeras 5 filas\n",
    "df_final.head()\n",
    "\n",
    "#esto esta a aprueba para entender ahora porque la columna calidad de agua tiene filas nulas.\n",
    "ruta_guardado = r'C:\\Users\\destrada\\Ciencia_datos_2A1C\\Cookiecutter_Proyecto_Final\\data\\processed\\df_final_Unificado.csv'\n",
    "#Guardamos el DataFrame en formato CSV\n",
    "df_final.to_csv(ruta_guardado, index=False)"
   ]
  },
  {
   "cell_type": "code",
   "execution_count": 4,
   "id": "adf99f8f-c611-41b9-9246-ac068928f2d6",
   "metadata": {},
   "outputs": [
    {
     "name": "stdout",
     "output_type": "stream",
     "text": [
      "Cantidad de registros: 1622\n",
      "Cantidad de columnas: 31\n"
     ]
    }
   ],
   "source": [
    "#Queremos conocer la cantidad de registros en el DataFrame Unificado\n",
    "num_registros = df_final.shape[0]\n",
    "print(\"Cantidad de registros: \" + str(num_registros))\n",
    "\n",
    "#Cantidad de columnas\n",
    "num_columnas = df_final.shape[1]\n",
    "print(\"Cantidad de columnas: \" + str(num_columnas))"
   ]
  },
  {
   "cell_type": "markdown",
   "id": "52efe06b-1b98-4a69-beae-e60f9009dfc4",
   "metadata": {},
   "source": [
    "##  Preprocesamiento de Datos (Data Preprocessing)\n",
    "amos a trabajar en el proceso de ETL (Extracción, Transformación y Carga), durante el cual eliminaremos columnas irrelevantes, trataremos valores nulos y errores, y codificaremos las variables categóricas. Todo este proceso tiene como objetivo preparar los datos adecuadamente para asegurar el correcto funcionamiento del algoritmo de predicción."
   ]
  },
  {
   "cell_type": "code",
   "execution_count": 6,
   "id": "fbc1353d-86e9-4fe2-a374-efd9a4c8c89b",
   "metadata": {},
   "outputs": [
    {
     "name": "stdout",
     "output_type": "stream",
     "text": [
      "orden                        0\n",
      "sitios                       0\n",
      "codigo                       0\n",
      "fecha                        3\n",
      "año                          0\n",
      "campaña                      0\n",
      "tem_agua                   312\n",
      "tem_aire                   932\n",
      "od                         465\n",
      "ph                         316\n",
      "olores                     796\n",
      "color                      801\n",
      "espumas                    798\n",
      "mat_susp                   798\n",
      "colif_fecales_ufc_100ml    362\n",
      "escher_coli_ufc_100ml      382\n",
      "enteroc_ufc_100ml          826\n",
      "nitrato_mg_l               245\n",
      "nh4_mg_l                   246\n",
      "p_total_l_mg_l             768\n",
      "fosf_ortofos_mg_l          864\n",
      "dbo_mg_l                   711\n",
      "dqo_mg_l                   331\n",
      "turbiedad_ntu              568\n",
      "hidr_deriv_petr_ug_l       741\n",
      "cr_total_mg_l              789\n",
      "cd_total_mg_l              784\n",
      "clorofila_a_ug_l           729\n",
      "microcistina_ug_l          802\n",
      "ica                        430\n",
      "calidad_de_agua            436\n",
      "dtype: int64\n"
     ]
    }
   ],
   "source": [
    "#Validamos si tenemos valores nulos en cada columnas\n",
    "valores_nulos = df_final.isnull().sum()\n",
    "print(valores_nulos)"
   ]
  },
  {
   "cell_type": "markdown",
   "id": "6ad62d1b-5d01-4bfd-8315-3cf3da589e59",
   "metadata": {},
   "source": [
    "Vamos a eliminar los valores nulos de la columna objetivo 'calidad_de_agua', ya que completar estos datos con métodos alternativos podría introducir errores de categorización que afecten negativamente el desempeño de los modelos de predicción."
   ]
  },
  {
   "cell_type": "code",
   "execution_count": 8,
   "id": "5ab2ccf6-8765-4768-a565-53280c69e07e",
   "metadata": {},
   "outputs": [],
   "source": [
    "#Eliminamos los valores Null\n",
    "df_final = df_final[df_final['calidad_de_agua'].notna() & df_final['ica'].notna()]"
   ]
  },
  {
   "cell_type": "markdown",
   "id": "30ec9d9d-d683-4a2c-9713-ef06dd9dfb7c",
   "metadata": {},
   "source": [
    "Luego de revisar los valores nulos, procederemos a eliminar símbolos y cadenas de texto que fueron cargadas incorrectamente. Este paso nos permitirá estandarizar y dar formato adecuado a cada columna."
   ]
  },
  {
   "cell_type": "code",
   "execution_count": 10,
   "id": "9e17f47b-8b0c-4ec5-bdc4-df8654fa923a",
   "metadata": {},
   "outputs": [],
   "source": [
    "import numpy as np\n",
    "\n",
    "#Reemplazamos el símbolo '<' por una cadena vacía en todo el DataFrame\n",
    "df_final = df_final.replace(r'<', '', regex=True)\n",
    "\n",
    "#Reemplazamos ciertas cadenas por NaN que luego serán tratados\n",
    "frases_a_reemplazar = ['-', 'nd', 'no miden','falto un frasco']\n",
    "df_final = df_final.replace(frases_a_reemplazar, np.nan)"
   ]
  },
  {
   "cell_type": "code",
   "execution_count": 11,
   "id": "cac42c33-45af-4040-9c61-9e1fa864b932",
   "metadata": {},
   "outputs": [],
   "source": [
    "#Vamos a eliminar filas duplicadas, esto incluye quitar todas las filas que sean completamente vacias y repetidas.\n",
    "df_final = df_final.drop_duplicates()"
   ]
  },
  {
   "cell_type": "code",
   "execution_count": 12,
   "id": "d2b13d45-0508-4fee-ba7d-6e4291ce6363",
   "metadata": {},
   "outputs": [],
   "source": [
    "#Vamos a quitar columnas que no serán relevante para el modelo\n",
    "columnas_a_eliminar = ['orden', 'sitios', 'codigo', 'fecha', ]\n",
    "\n",
    "#Aplicamos la eliminación\n",
    "df_final = df_final.drop(columns=columnas_a_eliminar)"
   ]
  },
  {
   "attachments": {},
   "cell_type": "markdown",
   "id": "c4fdee7f-0b23-48a7-adf7-d3c67fb9ef71",
   "metadata": {},
   "source": [
    "Luego de eliminar las columnas que no aportaban información relevante para el modelo predictivo, se identificaron columnas que contienen valores numéricos de tipo flotante. Para garantizar el correcto funcionamiento del modelo, es necesario tratar los valores nulos, reemplazándolos por la mediana correspondiente de cada una. Esta estrategia permite conservar la distribución de los datos sin verse afectada por valores extremos."
   ]
  },
  {
   "cell_type": "code",
   "execution_count": 14,
   "id": "c4df8b0f-8c17-4315-b5cf-57d134e781e2",
   "metadata": {},
   "outputs": [],
   "source": [
    "#Con este ciclo, iteramos para que cada columna, reemplazamos valores y calcule la mediana\n",
    "for col in ['od', 'ph', 'tem_agua','escher_coli_ufc_100ml','nitrato_mg_l','dqo_mg_l','dbo_mg_l','cr_total_mg_l',\n",
    "            'colif_fecales_ufc_100ml','fosf_ortofos_mg_l','hidr_deriv_petr_ug_l','tem_aire','enteroc_ufc_100ml','nh4_mg_l','p_total_l_mg_l',\n",
    "           'turbiedad_ntu','cd_total_mg_l','clorofila_a_ug_l','microcistina_ug_l']:\n",
    "    df_final[col] = pd.to_numeric(df_final[col], errors='coerce')\n",
    "    df_final[col] = df_final[col].fillna(df_final[col].median())"
   ]
  },
  {
   "cell_type": "markdown",
   "id": "1cdd1cd2-bab5-4efe-9573-b49ecbf63b5d",
   "metadata": {},
   "source": [
    "Luego procederemos a corregir los valores nulos presentes en las columnas categóricas. Utilizaremos la \"moda\" de cada columna que seria el valor más frecuente, como estrategia para completar los datos faltantes de manera coherente con la distribución original."
   ]
  },
  {
   "cell_type": "code",
   "execution_count": 16,
   "id": "b356059a-647f-42c7-8f4c-aaebf10462b9",
   "metadata": {},
   "outputs": [],
   "source": [
    "#Columnas que queremos procesar\n",
    "columnas = ['olores', 'color', 'espumas', 'mat_susp']\n",
    "\n",
    "#Reemplazamos valores nulos por la moda de cada columna\n",
    "for columna in columnas:\n",
    "    #Obtenemos la moda (valor más frecuente)\n",
    "    moda = df_final[columna].mode().iloc[0]  \n",
    "    df_final[columna] = df_final[columna].fillna(moda)"
   ]
  },
  {
   "cell_type": "code",
   "execution_count": 17,
   "id": "9d4f7267-0d76-4c0d-826d-2a392ab4d6cc",
   "metadata": {},
   "outputs": [],
   "source": [
    "#Eliminamos los valores Null\n",
    "df_final = df_final[df_final['calidad_de_agua'].notna()]"
   ]
  },
  {
   "cell_type": "code",
   "execution_count": 18,
   "id": "b5482b41-e763-4ad8-a99d-82f64482bc65",
   "metadata": {
    "scrolled": true
   },
   "outputs": [
    {
     "name": "stdout",
     "output_type": "stream",
     "text": [
      "Valores nulos por columna:\n",
      " año                        0\n",
      "campaña                    0\n",
      "tem_agua                   0\n",
      "tem_aire                   0\n",
      "od                         0\n",
      "ph                         0\n",
      "olores                     0\n",
      "color                      0\n",
      "espumas                    0\n",
      "mat_susp                   0\n",
      "colif_fecales_ufc_100ml    0\n",
      "escher_coli_ufc_100ml      0\n",
      "enteroc_ufc_100ml          0\n",
      "nitrato_mg_l               0\n",
      "nh4_mg_l                   0\n",
      "p_total_l_mg_l             0\n",
      "fosf_ortofos_mg_l          0\n",
      "dbo_mg_l                   0\n",
      "dqo_mg_l                   0\n",
      "turbiedad_ntu              0\n",
      "hidr_deriv_petr_ug_l       0\n",
      "cr_total_mg_l              0\n",
      "cd_total_mg_l              0\n",
      "clorofila_a_ug_l           0\n",
      "microcistina_ug_l          0\n",
      "ica                        0\n",
      "calidad_de_agua            0\n",
      "dtype: int64\n",
      "\n",
      "Tipo de dato por columna:\n",
      " año                          int64\n",
      "campaña                     object\n",
      "tem_agua                   float64\n",
      "tem_aire                   float64\n",
      "od                         float64\n",
      "ph                         float64\n",
      "olores                      object\n",
      "color                       object\n",
      "espumas                     object\n",
      "mat_susp                    object\n",
      "colif_fecales_ufc_100ml    float64\n",
      "escher_coli_ufc_100ml      float64\n",
      "enteroc_ufc_100ml          float64\n",
      "nitrato_mg_l               float64\n",
      "nh4_mg_l                   float64\n",
      "p_total_l_mg_l             float64\n",
      "fosf_ortofos_mg_l          float64\n",
      "dbo_mg_l                   float64\n",
      "dqo_mg_l                   float64\n",
      "turbiedad_ntu              float64\n",
      "hidr_deriv_petr_ug_l       float64\n",
      "cr_total_mg_l              float64\n",
      "cd_total_mg_l              float64\n",
      "clorofila_a_ug_l           float64\n",
      "microcistina_ug_l          float64\n",
      "ica                         object\n",
      "calidad_de_agua             object\n",
      "dtype: object\n"
     ]
    }
   ],
   "source": [
    "#Volvemos a validar si tenemos valores nulos en cada columna\n",
    "valores_nulos = df_final.isnull().sum()\n",
    "print(\"Valores nulos por columna:\\n\", valores_nulos)\n",
    "\n",
    "#Mostramos el tipo de dato de cada columna\n",
    "tipos_de_dato = df_final.dtypes\n",
    "print(\"\\nTipo de dato por columna:\\n\", tipos_de_dato)"
   ]
  },
  {
   "attachments": {},
   "cell_type": "markdown",
   "id": "c453b80a-7885-4cda-9d76-335177b91c6a",
   "metadata": {},
   "source": [
    "Siguiendo con el tratamiento de los datos, el siguiente paso consiste en convertir las variables categóricas a formato numérico. Esta transformación es esencial, ya que los algoritmos de aprendizaje automático requieren datos numéricos para operar correctamente y alcanzar un rendimiento óptimo.\n",
    "\n",
    "Dentro de las columnas categóricas \"olores\", \"color\", \"espumas\" y \"mat_susp\" se detectaron valores como \"ausente\", \"ausenca\" y \"ausencia\", los cuales serán necesario estandarizar antes de ser codificados numéricamente."
   ]
  },
  {
   "cell_type": "code",
   "execution_count": 20,
   "id": "638191c4-19e3-49e8-96ab-388fdf35caa0",
   "metadata": {},
   "outputs": [],
   "source": [
    "#Columnas categóricas a procesar\n",
    "columnas_categoricas = ['olores', 'color', 'espumas', 'mat_susp']\n",
    "\n",
    "#Reemplazamos \"ausencia\" y \"ausenca\" por \"ausente\" en las columnas categóricas\n",
    "for columna in columnas_categoricas:\n",
    "    df_final[columna] = df_final[columna].replace(\"ausencia\", \"ausente\")\n",
    "    df_final[columna] = df_final[columna].replace(\"ausenca\", \"ausente\")\n",
    "    df_final[columna] = df_final[columna].replace(\"presencia\", \"presente\")"
   ]
  },
  {
   "cell_type": "markdown",
   "id": "8a4059cc-31c0-42a6-a181-8e3e492b4449",
   "metadata": {},
   "source": [
    "Ahora vamos a binarizar las columnas categoricas 'olores', 'color', 'espumas' y 'mat_susp'"
   ]
  },
  {
   "cell_type": "code",
   "execution_count": 22,
   "id": "125bd50a-9ce3-4236-8700-4a3acb118c77",
   "metadata": {},
   "outputs": [],
   "source": [
    "#Convertimos las columnas binarias 'presente'/'ausente' a 1 y 0\n",
    "columnas_binarias = ['olores', 'color', 'espumas', 'mat_susp']\n",
    "\n",
    "for columna in columnas_binarias:\n",
    "    #Esta es otra forma de reemplazar los valores\n",
    "    df_final[columna] = df_final[columna].str.lower().map({'presente': 1, 'ausente': 0})"
   ]
  },
  {
   "cell_type": "code",
   "execution_count": 23,
   "id": "07aa13ad-d196-43de-8a2c-71c3b0b238d3",
   "metadata": {},
   "outputs": [
    {
     "name": "stdout",
     "output_type": "stream",
     "text": [
      "    año  tem_agua  tem_aire   od   ph  olores  color  espumas  mat_susp  \\\n",
      "0  2013      10.3      14.5  0.7  7.9       0      0        0         0   \n",
      "1  2013      10.5      14.5  0.5  7.5       0      0        0         0   \n",
      "2  2013      10.6      14.5  0.5  7.5       0      0        0         0   \n",
      "\n",
      "   colif_fecales_ufc_100ml  ...  cr_total_mg_l  cd_total_mg_l  \\\n",
      "0                    130.0  ...          0.006          0.002   \n",
      "1                    490.0  ...          0.006          0.002   \n",
      "2                     34.8  ...          0.006          0.002   \n",
      "\n",
      "   clorofila_a_ug_l  microcistina_ug_l   ica             calidad_de_agua  \\\n",
      "0              10.0                0.5  62.0             muy deteriorada   \n",
      "1              10.0                0.5  50.0             muy deteriorada   \n",
      "2              10.0                0.5  27.0  extremadamente deteriorada   \n",
      "\n",
      "   campaña_invierno  campaña_otono  campaña_primavera  campaña_verano  \n",
      "0              True          False              False           False  \n",
      "1              True          False              False           False  \n",
      "2              True          False              False           False  \n",
      "\n",
      "[3 rows x 30 columns]\n"
     ]
    }
   ],
   "source": [
    "#Aplicamos el método One-Hot Encoding a la columna 'campaña', porque es una columna categóricas nominales y tiene las estaciones del año (Verano, \n",
    "#Invierno, Otoño, Primavera)\n",
    "df_final = pd.get_dummies(df_final, columns=['campaña'], drop_first=False)\n",
    "\n",
    "#Verificamos las creación de las nuevas columnas (campaña_invierno, campaña_otono, campaña_primavera y campaña_verano) \n",
    "print(df_final.head(3))"
   ]
  },
  {
   "cell_type": "code",
   "execution_count": 24,
   "id": "f11e4e0d-1453-4ab3-b009-ce3e2ae19b82",
   "metadata": {},
   "outputs": [],
   "source": [
    "#Convertimos las columnas campañas a binarias 'True=1, False=0\n",
    "columnas_binarias = ['campaña_invierno', 'campaña_otono', 'campaña_primavera', 'campaña_verano']\n",
    "\n",
    "for columna in columnas_binarias:\n",
    "    df_final[columna] = df_final[columna].astype(int)"
   ]
  },
  {
   "cell_type": "markdown",
   "id": "ee06013a-c7f8-404c-bac6-580e70c5ba2e",
   "metadata": {},
   "source": [
    "Aplicamos el método Label-Encoding para la variable objetivo calidad_de_agua, levemente deteriorada = 0, deteriorada = 1, muy deteriorada = 2, y extremadamente deteriorada = 3"
   ]
  },
  {
   "cell_type": "code",
   "execution_count": 26,
   "id": "74d6c423-0ae3-4e2e-a8d1-c711a6d175cb",
   "metadata": {},
   "outputs": [],
   "source": [
    "#Aplicamos Ordinal Encoding para la columna calidad_de_agua \n",
    "mapa_calidad = {\n",
    "    'levemente deteriorada': 0,\n",
    "    'deteriorada': 1,\n",
    "    'muy deteriorada': 2,\n",
    "    'extremadamente deteriorada': 3\n",
    "}\n",
    "\n",
    "df_final['calidad_de_agua'] = df_final['calidad_de_agua'].map(mapa_calidad)"
   ]
  },
  {
   "cell_type": "code",
   "execution_count": 27,
   "id": "8e96dddd-74e4-4041-a436-933d176fdaed",
   "metadata": {},
   "outputs": [
    {
     "name": "stdout",
     "output_type": "stream",
     "text": [
      "Cantidad de registros: 1182\n",
      "Cantidad de columnas: 30\n",
      "El archivo fue guardado correctamente en: C:\\Users\\destrada\\Ciencia_datos_2A1C\\Cookiecutter_Proyecto_Final\\data\\processed\\df_final_Unificado.csv\n"
     ]
    }
   ],
   "source": [
    "#Queremos conocer la cantidad de registros en el DataFrame Unificado y como quedo con todo el tratamiento que realizamos\n",
    "num_registros = df_final.shape[0]\n",
    "print(\"Cantidad de registros: \" + str(num_registros))\n",
    "\n",
    "#Cantidad de columnas\n",
    "num_columnas = df_final.shape[1]\n",
    "print(\"Cantidad de columnas: \" + str(num_columnas))\n",
    "\n",
    "#Definimos nueva ruta dentro de la estructura de CookieCutter\n",
    "ruta_guardado = r'C:\\Users\\destrada\\Ciencia_datos_2A1C\\Cookiecutter_Proyecto_Final\\data\\processed\\df_final_Unificado.csv'\n",
    "\n",
    "#Guardamos el DataFrame en formato CSV\n",
    "df_final.to_csv(ruta_guardado, index=False)\n",
    "\n",
    "print(\"El archivo fue guardado correctamente en:\", ruta_guardado)"
   ]
  },
  {
   "cell_type": "markdown",
   "id": "8e33c260-1525-463c-8d43-6d17cf281f23",
   "metadata": {},
   "source": [
    "**Conclusión:** \n",
    "El proceso de carga y tratamiento del conjunto de datos sobre la calidad del agua en el Río de la Plata, correspondiente al período 2013–2024, permitió consolidar una base de datos unificada, limpia, estructurada y lista para su análisis. Durante esta etapa, se abordaron problemas comunes mediante técnicas como la estandarización de formatos, la imputación de valores nulos, la eliminación de duplicados y la codificación de variables categóricas.\n",
    "Los datos correspondientes a los años 2015 y 2017 fueron descartados, ya que presentaban registros completamente faltantes y sin clasificar en cuanto a la calidad del agua. Intentar completarlos sintéticamente habría implicado un riesgo significativo de introducir sesgos y comprometer la confiabilidad de los modelos predictivos.\n",
    "La aplicación de estos procesos no solo mejoró la calidad del conjunto de datos, sino que también lo dejó preparado para su uso en modelos de aprendizaje automático orientados a la predicción y monitoreo del estado del agua en la región. Como resultado, se obtuvo un dataset final compuesto por 1.182 registros y 30 variables, listo para continuar con el análisis exploratorio y predictivo."
   ]
  }
 ],
 "metadata": {
  "kernelspec": {
   "display_name": "Python 3 (ipykernel)",
   "language": "python",
   "name": "python3"
  },
  "language_info": {
   "codemirror_mode": {
    "name": "ipython",
    "version": 3
   },
   "file_extension": ".py",
   "mimetype": "text/x-python",
   "name": "python",
   "nbconvert_exporter": "python",
   "pygments_lexer": "ipython3",
   "version": "3.12.7"
  }
 },
 "nbformat": 4,
 "nbformat_minor": 5
}
